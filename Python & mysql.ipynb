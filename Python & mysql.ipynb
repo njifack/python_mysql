{
 "cells": [
  {
   "cell_type": "code",
   "execution_count": null,
   "metadata": {},
   "outputs": [],
   "source": [
    "# Create a Database named RegistrationDB.\n",
    "\n",
    "import mysql.connector\n",
    "\n",
    "conn = mysql.connector.connect(user='root',password='password',host=\"localhost\")\n",
    "\n",
    "cursor = conn.cursor()\n",
    "\n",
    "query = \"\"\" CREATE DATABASE RegistrationDB \"\"\"\n",
    "\n",
    "cursor.execute(query)\n",
    "\n"
   ]
  },
  {
   "cell_type": "code",
   "execution_count": 8,
   "metadata": {},
   "outputs": [
    {
     "name": "stdout",
     "output_type": "stream",
     "text": [
      "Well done\n"
     ]
    }
   ],
   "source": [
    "import mysql.connector\n",
    "\n",
    "def generate_user_table():\n",
    "    \n",
    "    try:\n",
    "        conn = mysql.connector.connect(user='root', password='password', host=\"localhost\", database='RegistrationDB')\n",
    "        cursor = conn.cursor()\n",
    "        \n",
    "        # Create the user table\n",
    "        query1 = \"\"\"CREATE TABLE user (\n",
    "                        email varchar(100),\n",
    "                        name varchar(50),\n",
    "                        password varchar(30)\n",
    "                   )\"\"\"  # Added a comma after 'name'\n",
    "        cursor.execute(query1)\n",
    "        \n",
    "        # Insert records into the user table\n",
    "        query2 = \"\"\"INSERT INTO user (email, name, password)\n",
    "                    VALUES (%s, %s, %s)\"\"\"  # Removed the extra %s\n",
    "        records = [\n",
    "            ('ywbaek@perscholas.org', 'young', 'letsgomets'),\n",
    "            ('mcordon@perscholas.org', 'marcial', 'perscholas'),\n",
    "            ('mhaseeb@perscholas.org', 'haseeb', 'platform')\n",
    "        ]\n",
    "        cursor.executemany(query2, records)\n",
    "        \n",
    "        # Commit the transaction\n",
    "        conn.commit()\n",
    "    \n",
    "    except mysql.connector.Error as e:\n",
    "        print(\"An error occurred:\", e)\n",
    "    \n",
    "    finally:\n",
    "        if conn.is_connected():\n",
    "            print(\"Well done\")\n",
    "            cursor.close()\n",
    "            conn.close()\n",
    "\n",
    "# Call the function to generate the user table and insert records\n",
    "generate_user_table()\n"
   ]
  },
  {
   "cell_type": "code",
   "execution_count": 11,
   "metadata": {},
   "outputs": [
    {
     "name": "stdout",
     "output_type": "stream",
     "text": [
      "email:  ywbaek@perscholas.org\n",
      "name:  young\n",
      "password:  letsgomets\n",
      "email:  mcordon@perscholas.org\n",
      "name:  marcial\n",
      "password:  perscholas\n",
      "email:  mhaseeb@perscholas.org\n",
      "name:  haseeb\n",
      "password:  platform\n"
     ]
    }
   ],
   "source": [
    "# Print out the email, name, and password of all users.\n",
    "\n",
    "from  mysql.connector import Error\n",
    "\n",
    "def get_all_users():\n",
    "    try:\n",
    "        conn = mysql.connector.connect(user='root', password='password', host=\"localhost\", database='RegistrationDB')\n",
    "        cursor = conn.cursor()\n",
    "        \n",
    "        query = \"\"\" SELECT * FROM user \"\"\"\n",
    "        cursor.execute(query)\n",
    "        \n",
    "        results = cursor.fetchall()\n",
    "        for row in results:\n",
    "            print(\"email: \",row[0])\n",
    "            print(\"name: \",row[1])\n",
    "            print(\"password: \",row[2])\n",
    "    except Error as e:\n",
    "        print(\"an error accured:\",e)\n",
    "    finally:\n",
    "        if conn.is_connected():\n",
    "            cursor.close()\n",
    "            conn.close()\n",
    "get_all_users()\n",
    "        "
   ]
  },
  {
   "cell_type": "code",
   "execution_count": 16,
   "metadata": {},
   "outputs": [
    {
     "name": "stdout",
     "output_type": "stream",
     "text": [
      "('mcordon@perscholas.org', 'perscholas')\n"
     ]
    }
   ],
   "source": [
    "# Print out the email and password of the user with the given name.\n",
    "\n",
    "from mysql.connector import Error\n",
    "\n",
    "def get_user_by_name(name):\n",
    "    \n",
    "    try:\n",
    "        conn = conn = mysql.connector.connect(user='root', password='password', host=\"localhost\", database='RegistrationDB')\n",
    "        cursor = conn.cursor()\n",
    "        \n",
    "        query = \"\"\"select email, password from user where name = %s \"\"\"\n",
    "        cursor.execute(query,(name, ))\n",
    "        results = cursor.fetchall()\n",
    "        for row in results:\n",
    "            print(row)\n",
    "    except Error as e:\n",
    "        print(\"an error occured\",e)\n",
    "    \n",
    "    finally:\n",
    "        if conn.is_connected():\n",
    "            cursor.close()\n",
    "            conn.close()\n",
    "            \n",
    "get_user_by_name('marcial')"
   ]
  },
  {
   "cell_type": "code",
   "execution_count": 25,
   "metadata": {},
   "outputs": [
    {
     "name": "stdout",
     "output_type": "stream",
     "text": [
      "False\n",
      "True\n"
     ]
    }
   ],
   "source": [
    "# Return True if a user exists with the given email and password. Return False otherwise.\n",
    "\n",
    "import mysql.connector\n",
    "\n",
    "def validate_user(email, password):\n",
    "    try:\n",
    "        conn = mysql.connector.connect(user='root', password='pasword', host=\"localhost\", database='RegistrationDB')\n",
    "        cursor = conn.cursor()\n",
    "        \n",
    "        \n",
    "        query = \"\"\"SELECT name FROM user WHERE email = %s AND password = %s\"\"\"\n",
    "        cursor.execute(query, (email, password)) \n",
    "        results = cursor.fetchall()\n",
    "        if results:\n",
    "            return True\n",
    "        else:\n",
    "            return False\n",
    "    \n",
    "    except Error as e:\n",
    "        print(\"error occured:\", e)\n",
    "    finally:\n",
    "        if conn.is_connected():\n",
    "            cursor.close()\n",
    "            conn.close()\n",
    "            \n",
    "print(validate_user(\"nj.@gmail.com\",\"piss\")) \n",
    "print(validate_user('mcordon@perscholas.org', 'perscholas'))      \n",
    "        \n",
    "        "
   ]
  },
  {
   "cell_type": "code",
   "execution_count": 40,
   "metadata": {},
   "outputs": [
    {
     "name": "stdout",
     "output_type": "stream",
     "text": [
      "Number of rows affected: 1\n",
      "True\n",
      "Number of rows affected: 1\n",
      "True\n",
      "Number of rows affected: 1\n",
      "True\n"
     ]
    }
   ],
   "source": [
    "# update a user's name and password based on their email address Return True if successful, False otherwise.\n",
    "\n",
    "import mysql.connector\n",
    "from mysql.connector import Error\n",
    "\n",
    "def update_user(email, name, password):\n",
    "    try:\n",
    "        # Establish the connection to the database\n",
    "        conn = mysql.connector.connect(user='root', password='password', host=\"localhost\", database='RegistrationDB')\n",
    "        cursor = conn.cursor()\n",
    "        \n",
    "        # SQL query \n",
    "        query = \"\"\"UPDATE user SET name = %s, password = %s WHERE email = %s\"\"\"\n",
    "        cursor.execute(query, (name, password, email))\n",
    "        \n",
    "        # Commit the transaction\n",
    "        conn.commit()\n",
    "        \n",
    "        # Debug print to check affected rows\n",
    "        print(\"Number of rows affected:\", cursor.rowcount)\n",
    "        \n",
    "        # Check if any row was actually updated\n",
    "        if cursor.rowcount > 0:\n",
    "            return True\n",
    "        else:\n",
    "            return False\n",
    "\n",
    "    except Error as e:\n",
    "        print(\"An error occurred:\", e)\n",
    "        return False\n",
    "    \n",
    "    finally:\n",
    "        # Ensure the cursor and connection are closed\n",
    "        if conn.is_connected():\n",
    "            cursor.close()\n",
    "            conn.close()\n",
    "\n",
    "# Test the function\n",
    "print(update_user(\"ywbaek@perscholas.org\", \"gracias\", \"password0\"))  # Should return True if the email exists\n",
    "print(update_user(\"mcordon@perscholas.org\", \"toby\", \"password01\"))  # Should return True if the email exists\n",
    "print(update_user(\"mhaseeb@perscholas.org\", \"john\", \"password001\"))  # Should return True if the email exists\n"
   ]
  },
  {
   "cell_type": "code",
   "execution_count": null,
   "metadata": {},
   "outputs": [],
   "source": []
  }
 ],
 "metadata": {
  "kernelspec": {
   "display_name": "Python 3",
   "language": "python",
   "name": "python3"
  },
  "language_info": {
   "codemirror_mode": {
    "name": "ipython",
    "version": 3
   },
   "file_extension": ".py",
   "mimetype": "text/x-python",
   "name": "python",
   "nbconvert_exporter": "python",
   "pygments_lexer": "ipython3",
   "version": "3.9.6"
  }
 },
 "nbformat": 4,
 "nbformat_minor": 2
}
